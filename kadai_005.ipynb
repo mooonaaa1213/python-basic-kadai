{
  "nbformat": 4,
  "nbformat_minor": 0,
  "metadata": {
    "colab": {
      "provenance": []
    },
    "kernelspec": {
      "name": "python3",
      "display_name": "Python 3"
    },
    "language_info": {
      "name": "python"
    }
  },
  "cells": [
    {
      "cell_type": "code",
      "execution_count": 2,
      "metadata": {
        "colab": {
          "base_uri": "https://localhost:8080/"
        },
        "id": "0zg3I4BOy3Qo",
        "outputId": "c70c6277-1e83-4b8a-9729-ac1b68a3da9f"
      },
      "outputs": [
        {
          "output_type": "stream",
          "name": "stdout",
          "text": [
            "75.0cm²\n"
          ]
        }
      ],
      "source": [
        "upper_length = 10\n",
        "lower_length = 20\n",
        "height = 5\n",
        "area = (upper_length + lower_length) * height / 2\n",
        "print(f\"{area}cm²\")"
      ]
    }
  ]
}