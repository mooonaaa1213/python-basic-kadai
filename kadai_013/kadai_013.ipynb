{
  "nbformat": 4,
  "nbformat_minor": 0,
  "metadata": {
    "colab": {
      "provenance": []
    },
    "kernelspec": {
      "name": "python3",
      "display_name": "Python 3"
    },
    "language_info": {
      "name": "python"
    }
  },
  "cells": [
    {
      "cell_type": "code",
      "execution_count": 5,
      "metadata": {
        "colab": {
          "base_uri": "https://localhost:8080/"
        },
        "id": "z-2hQ9_lobJq",
        "outputId": "d56f1bf9-2a25-4f7d-9dea-ad6df72a6645"
      },
      "outputs": [
        {
          "output_type": "execute_result",
          "data": {
            "text/plain": [
              "550.0"
            ]
          },
          "metadata": {},
          "execution_count": 5
        }
      ],
      "source": [
        "def double(price , tax) -> float:\n",
        "  total = price * (tax /100 + 1)\n",
        "  return total\n",
        "double(500, 10)\n",
        "\n"
      ]
    }
  ]
}